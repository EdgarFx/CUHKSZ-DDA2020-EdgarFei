{
 "cells": [
  {
   "cell_type": "code",
   "execution_count": 129,
   "id": "82574f6d-163e-4ba4-aeea-63e0123e4d06",
   "metadata": {},
   "outputs": [],
   "source": [
    "import numpy as np"
   ]
  },
  {
   "cell_type": "code",
   "execution_count": 130,
   "id": "28d4d5ae-d232-42fc-ae07-bae6b3bfe62e",
   "metadata": {},
   "outputs": [],
   "source": [
    "A = np.array([[2, 0, 1, -3, -2],[0, 2, -3, -3, -2],[1, 2, 1, 3, -2],[-1, 1, 3, 2, -1],[1, 0, 1, -1, 1],[2, 3, -1, 1, -2],\n",
    "             [-2, 3, -3, 3, 2],[-2, -2, 2, 3, -2],[-2, -3, 1, -2, -3],[-3, 2, 0, -1, -2]]).T"
   ]
  },
  {
   "cell_type": "code",
   "execution_count": 131,
   "id": "67278986-178d-4f77-9246-53c4814ff425",
   "metadata": {},
   "outputs": [],
   "source": [
    "A = A.astype(float)"
   ]
  },
  {
   "cell_type": "code",
   "execution_count": 132,
   "id": "29bd454c-00fe-430e-b918-f017d49b4bb6",
   "metadata": {},
   "outputs": [
    {
     "name": "stdout",
     "output_type": "stream",
     "text": [
      "[[ 2.  0.  1. -1.  1.  2. -2. -2. -2. -3.]\n",
      " [ 0.  2.  2.  1.  0.  3.  3. -2. -3.  2.]\n",
      " [ 1. -3.  1.  3.  1. -1. -3.  2.  1.  0.]\n",
      " [-3. -3.  3.  2. -1.  1.  3.  3. -2. -1.]\n",
      " [-2. -2. -2. -1.  1. -2.  2. -2. -3. -2.]]\n"
     ]
    }
   ],
   "source": [
    "print(A)"
   ]
  },
  {
   "cell_type": "code",
   "execution_count": 133,
   "id": "93fc503b-5d56-4bcd-be45-02850f7ead95",
   "metadata": {},
   "outputs": [],
   "source": [
    "m = np.sum(A,axis=1)/10"
   ]
  },
  {
   "cell_type": "code",
   "execution_count": 134,
   "id": "e36894ae-f6e8-4c43-953d-8d272e64ef77",
   "metadata": {},
   "outputs": [],
   "source": [
    "for i in range(5):\n",
    "    for j in range(10):\n",
    "        A[i][j] = A[i][j]-m[i]"
   ]
  },
  {
   "cell_type": "code",
   "execution_count": 135,
   "id": "70dec40e-eeca-4832-94df-405f73cd61d9",
   "metadata": {},
   "outputs": [
    {
     "name": "stdout",
     "output_type": "stream",
     "text": [
      "[[ 2.4  0.4  1.4 -0.6  1.4  2.4 -1.6 -1.6 -1.6 -2.6]\n",
      " [-0.8  1.2  1.2  0.2 -0.8  2.2  2.2 -2.8 -3.8  1.2]\n",
      " [ 0.8 -3.2  0.8  2.8  0.8 -1.2 -3.2  1.8  0.8 -0.2]\n",
      " [-3.2 -3.2  2.8  1.8 -1.2  0.8  2.8  2.8 -2.2 -1.2]\n",
      " [-0.7 -0.7 -0.7  0.3  2.3 -0.7  3.3 -0.7 -1.7 -0.7]]\n"
     ]
    }
   ],
   "source": [
    "print(A)"
   ]
  },
  {
   "cell_type": "code",
   "execution_count": 136,
   "id": "f1830be1-c6d6-4ede-afa0-27a0bdafbeac",
   "metadata": {},
   "outputs": [
    {
     "name": "stdout",
     "output_type": "stream",
     "text": [
      "[[ 3.04  0.82 -0.02 -0.82 -0.12]\n",
      " [ 0.82  3.76 -2.16  1.04  1.04]\n",
      " [-0.02 -2.16  3.56  0.76 -0.84]\n",
      " [-0.82  1.04  0.76  5.56  1.16]\n",
      " [-0.12  1.04 -0.84  1.16  2.21]]\n"
     ]
    }
   ],
   "source": [
    "sigma = np.dot(A,A.T)/10\n",
    "print(sigma)"
   ]
  },
  {
   "cell_type": "code",
   "execution_count": 137,
   "id": "3b92c53f-2eeb-4612-964a-cfb5fbaf6d6b",
   "metadata": {},
   "outputs": [],
   "source": [
    "eigen_vals, eigen_vecs = np.linalg.eig(sigma)\n",
    "index=np.argsort(eigen_vals)\n",
    "n_index=index[-1:-3:-1]\n",
    "n_eigenVec=eigen_vecs[:, n_index]\n",
    "n_eigenVals=eigen_vals[n_index]"
   ]
  },
  {
   "cell_type": "code",
   "execution_count": 138,
   "id": "c4b2d3a4-9d6d-44e9-8022-3e4d5bce8608",
   "metadata": {},
   "outputs": [
    {
     "name": "stdout",
     "output_type": "stream",
     "text": [
      "[[-0.02625442  0.29809153]\n",
      " [ 0.57873744  0.39493632]\n",
      " [-0.32862419 -0.58025264]\n",
      " [ 0.65356276 -0.64618454]\n",
      " [ 0.35949345  0.03031732]]\n"
     ]
    }
   ],
   "source": [
    "print(n_eigenVec)"
   ]
  },
  {
   "cell_type": "code",
   "execution_count": 139,
   "id": "ad9af8e7-2342-425b-9538-d688a6d4ac3d",
   "metadata": {},
   "outputs": [
    {
     "name": "stdout",
     "output_type": "stream",
     "text": [
      "[6.76978985 5.93067614]\n"
     ]
    }
   ],
   "source": [
    "print(n_eigenVals)"
   ]
  },
  {
   "cell_type": "code",
   "execution_count": 140,
   "id": "c9998abc-1cbd-4d3e-a2c1-1fa439e388d1",
   "metadata": {},
   "outputs": [],
   "source": [
    "projection=np.dot(n_eigenVec.T,A)"
   ]
  },
  {
   "cell_type": "code",
   "execution_count": 141,
   "id": "34a9fcd8-556c-4dad-b09f-5d449f5daa97",
   "metadata": {},
   "outputs": [
    {
     "name": "stdout",
     "output_type": "stream",
     "text": [
      "[[-3.13194616 -0.60746566  1.97315969  0.4956134  -0.72008587  1.87576557\n",
      "   5.38313097 -0.591651   -4.46907149 -0.20744945]\n",
      " [ 1.98183693  4.49653708 -1.40348923 -2.87861204  0.48232827  1.74241301\n",
      "   0.53945236 -4.45776178 -1.07184006  0.56913546]]\n"
     ]
    }
   ],
   "source": [
    "print(projection)"
   ]
  },
  {
   "cell_type": "code",
   "execution_count": null,
   "id": "ccb7d847-3e59-4058-9732-07de08d0a45b",
   "metadata": {},
   "outputs": [],
   "source": []
  }
 ],
 "metadata": {
  "kernelspec": {
   "display_name": "Python 3",
   "language": "python",
   "name": "python3"
  },
  "language_info": {
   "codemirror_mode": {
    "name": "ipython",
    "version": 3
   },
   "file_extension": ".py",
   "mimetype": "text/x-python",
   "name": "python",
   "nbconvert_exporter": "python",
   "pygments_lexer": "ipython3",
   "version": "3.8.8"
  }
 },
 "nbformat": 4,
 "nbformat_minor": 5
}
