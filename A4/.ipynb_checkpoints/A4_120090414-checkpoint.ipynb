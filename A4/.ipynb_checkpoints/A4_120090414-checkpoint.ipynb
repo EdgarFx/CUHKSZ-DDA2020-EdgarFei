{
 "cells": [
  {
   "cell_type": "code",
   "execution_count": 4,
   "id": "1c92ba9e-d50a-48cc-8d44-8fcedc398bcf",
   "metadata": {},
   "outputs": [],
   "source": [
    "import numpy as np\n",
    "import scipy.stats as st\n",
    "import random\n",
    "import time\n",
    "import math\n",
    "from scipy.stats import multivariate_normal"
   ]
  },
  {
   "cell_type": "code",
   "execution_count": 5,
   "id": "d86b4931-8c5e-402e-83c1-c2c97703be62",
   "metadata": {},
   "outputs": [],
   "source": [
    "data = np.loadtxt('seeds_dataset.txt')"
   ]
  },
  {
   "cell_type": "code",
   "execution_count": 6,
   "id": "61c1b0bd-47b1-413e-8304-31c2a9935fd1",
   "metadata": {},
   "outputs": [
    {
     "name": "stdout",
     "output_type": "stream",
     "text": [
      "[[15.26   14.84    0.871  ...  2.221   5.22    1.    ]\n",
      " [14.88   14.57    0.8811 ...  1.018   4.956   1.    ]\n",
      " [14.29   14.09    0.905  ...  2.699   4.825   1.    ]\n",
      " ...\n",
      " [13.2    13.66    0.8883 ...  8.315   5.056   3.    ]\n",
      " [11.84   13.21    0.8521 ...  3.598   5.044   3.    ]\n",
      " [12.3    13.34    0.8684 ...  5.637   5.063   3.    ]]\n"
     ]
    }
   ],
   "source": [
    "print(data)"
   ]
  },
  {
   "cell_type": "code",
   "execution_count": 7,
   "id": "7e6d4807-9eb6-4142-8ee7-c292a8247adf",
   "metadata": {},
   "outputs": [],
   "source": [
    "features = data[:,:7]"
   ]
  },
  {
   "cell_type": "code",
   "execution_count": 8,
   "id": "33a0901c-7b1a-41b4-9de7-494a1cd70a37",
   "metadata": {},
   "outputs": [
    {
     "name": "stdout",
     "output_type": "stream",
     "text": [
      "[[15.26   14.84    0.871  ...  3.312   2.221   5.22  ]\n",
      " [14.88   14.57    0.8811 ...  3.333   1.018   4.956 ]\n",
      " [14.29   14.09    0.905  ...  3.337   2.699   4.825 ]\n",
      " ...\n",
      " [13.2    13.66    0.8883 ...  3.232   8.315   5.056 ]\n",
      " [11.84   13.21    0.8521 ...  2.836   3.598   5.044 ]\n",
      " [12.3    13.34    0.8684 ...  2.974   5.637   5.063 ]]\n"
     ]
    }
   ],
   "source": [
    "print(features)"
   ]
  },
  {
   "cell_type": "code",
   "execution_count": 9,
   "id": "7a191995-2140-4626-828f-1891e90e8cb4",
   "metadata": {},
   "outputs": [],
   "source": [
    "# Euclidean distance\n",
    "def get_distance(vec1,vec2):\n",
    "    return np.sqrt(sum(np.power(vec2-vec1,2)))\n",
    "\n",
    "# initialize centroids with random samples\n",
    "def initialize(data, k):\n",
    "    num,dimension = data.shape\n",
    "    centroids = np.ones((k,dimension))\n",
    "    for i in range(k):\n",
    "        index = int(random.uniform(0,num))\n",
    "        centroids[i,:] = data[index,:]\n",
    "    return centroids\n",
    "\n",
    "# K-means\n",
    "def kmeans(data,k=3):\n",
    "    iteration=1\n",
    "    num = data.shape[0]\n",
    "    # first column stores which cluster this sample belongs to,second column stores the distance**2 between this sample and its centroid\n",
    "    array = np.zeros((num,2))\n",
    "    for i in range(num):\n",
    "        for j in range(2):\n",
    "            array[i][j] = 3\n",
    "    clusterInfo = np.mat(array)\n",
    "    is_changed = True\n",
    "\n",
    "    # initialize centroids\n",
    "    centroids = initialize(data,k)\n",
    "\n",
    "    while is_changed:\n",
    "        is_changed = False\n",
    "        # for each sample\n",
    "        for i in range(num):\n",
    "            min_distance = 10000000\n",
    "            min_index = 0\n",
    "            # find the closest centroid\n",
    "            for j in range(k):\n",
    "                distance = get_distance(centroids[j,:],data[i,:])\n",
    "                if distance < min_distance:\n",
    "                    min_distance = distance\n",
    "                    min_index = j\n",
    "\n",
    "            # update cluster\n",
    "            if clusterInfo[i,0] != min_index:\n",
    "                is_changed = True\n",
    "                clusterInfo[i,:] = min_index, min_distance**2\n",
    "\n",
    "        # update centroids\n",
    "        for j in range(k):\n",
    "            points = data[np.nonzero(clusterInfo[:,0].A==j)[0]]\n",
    "            centroids[j,:] = np.mean(points,axis=0)\n",
    "        iteration+=1\n",
    "    \n",
    "    clustering0 = []\n",
    "    for i in range(num):\n",
    "        clustering0.append(clusterInfo[i,0])\n",
    "    clustering = np.array(clustering0)\n",
    "    \n",
    "    return iteration,centroids,clustering,clusterInfo"
   ]
  },
  {
   "cell_type": "code",
   "execution_count": 10,
   "id": "84682bc0-ecc0-4750-9adf-a926c7774c03",
   "metadata": {},
   "outputs": [],
   "source": [
    "iteration,centroids,clustering,clusterInfo = kmeans(features,3)"
   ]
  },
  {
   "cell_type": "code",
   "execution_count": 11,
   "id": "aabe4723-5d24-40f3-8d80-de0326d1c4f2",
   "metadata": {},
   "outputs": [
    {
     "name": "stdout",
     "output_type": "stream",
     "text": [
      "6\n",
      "[[14.81910448 14.53716418  0.88052239  5.59101493  3.29935821  2.70658507\n",
      "   5.21753731]\n",
      " [11.98865854 13.28439024  0.85273659  5.22742683  2.88008537  4.58392683\n",
      "   5.0742439 ]\n",
      " [18.72180328 16.29737705  0.88508689  6.20893443  3.72267213  3.60359016\n",
      "   6.06609836]]\n",
      "[0. 0. 0. 0. 0. 0. 0. 0. 0. 0. 0. 0. 0. 0. 0. 0. 1. 0. 0. 1. 0. 0. 0. 1.\n",
      " 0. 0. 1. 1. 0. 0. 0. 0. 0. 0. 0. 0. 0. 2. 0. 1. 0. 0. 0. 0. 0. 0. 0. 0.\n",
      " 0. 0. 0. 0. 0. 0. 0. 0. 0. 0. 0. 1. 1. 1. 1. 1. 0. 0. 0. 0. 0. 1. 2. 2.\n",
      " 2. 2. 2. 2. 2. 2. 2. 2. 2. 2. 2. 2. 2. 2. 2. 2. 2. 2. 2. 2. 2. 2. 2. 2.\n",
      " 2. 2. 2. 2. 0. 2. 2. 2. 2. 2. 2. 2. 2. 2. 2. 2. 2. 2. 2. 2. 2. 2. 2. 2.\n",
      " 2. 2. 0. 2. 0. 2. 2. 2. 2. 2. 2. 2. 0. 0. 0. 0. 2. 0. 0. 0. 1. 1. 1. 1.\n",
      " 1. 1. 1. 1. 1. 1. 1. 1. 1. 1. 1. 1. 1. 1. 1. 1. 1. 1. 1. 1. 1. 1. 1. 1.\n",
      " 1. 1. 1. 1. 1. 1. 1. 1. 1. 1. 1. 1. 1. 1. 1. 1. 1. 1. 1. 1. 1. 1. 1. 1.\n",
      " 1. 1. 1. 1. 1. 1. 1. 1. 1. 1. 1. 1. 1. 1. 1. 1. 1. 1.]\n"
     ]
    }
   ],
   "source": [
    "print(iteration)\n",
    "print(centroids)\n",
    "print(clustering)"
   ]
  },
  {
   "cell_type": "code",
   "execution_count": 32,
   "id": "bf95f0cd-6119-469b-aa14-bb12d4133cd1",
   "metadata": {},
   "outputs": [],
   "source": [
    "# accelerated K-means with triangle-inequality\n",
    "# compute the distance between different centers\n",
    "def centroids_dist(centroids):\n",
    "    k = len(centroids)\n",
    "    distance_mat = np.ones((k,k))  #distance_mat is a k*k matrix, and distance_mat[i][j] means the distance between center i and center j\n",
    "    for i in range(k):\n",
    "        for j in range(k):\n",
    "            if i==j:\n",
    "                distance_mat[i][j] = 1000000  #when computing s(c), automatically satisfy c'!=c\n",
    "            distance_mat[i][j] = get_distance(centroids[i],centroids[j])\n",
    "    return distance_mat\n",
    "\n",
    "# initialize the accelerate kmeans centers, using lemma1 to avoid redundant distance calculations\n",
    "def initialize_acc_k_means(data,centroids,distance_mat):\n",
    "    k = len(centroids)\n",
    "    num = len(data)\n",
    "    lb = np.zeros((num,k)) #initially set lower bound to 0 for each point x and center c\n",
    "    ub = np.zeros((num)) #initially set upper bound to 0 for each point x\n",
    "    clustering = np.zeros(num)\n",
    "    for i in range(num):\n",
    "        dxc = get_distance(data[i],centroids[0]) #d(x,c), first in clustering 0, so this is the distance to center 0\n",
    "        clustering[i] = 0\n",
    "        for index in range(1,k):\n",
    "            if distance_mat[0,index]>=2*dxc:  # use lemma1 here, if d(C,C')>=2d(x,c), then do not need to compute d(x,c')\n",
    "                continue\n",
    "            else:\n",
    "                dxc_index = get_distance(data[i],centroids[index]) #otherwise, need to compute d(x,c')\n",
    "                lb[i][index] = dxc_index # each time d(x,c') is computed, set l(x,c') = d(x,c')\n",
    "                if dxc_index<dxc:\n",
    "                    dxc = dxc_index\n",
    "                    clustering[i] = index\n",
    "        ub[i] = dxc #assign upper bound u(x)=min(d(x,c))\n",
    "    return clustering,lb,ub\n",
    "\n",
    "# update the clustering\n",
    "def assignment(data,clustering,centroids,distance_mat,lb,ub):\n",
    "    k = len(centroids)\n",
    "    num = len(data)\n",
    "    need_assign = np.ones(num)  #whether need re-assignment, 1 means need, 0 means no need\n",
    "    sc = np.zeros(k)  # sc = 0.5*min_(c!=c')(d(c,c'))\n",
    "    for i in range(k):  # for all centers c, compute sc.\n",
    "        sc[i] = 0.5*np.min(distance_mat[i])\n",
    "    for i in range(num):  # identify all points x such that u(x)<=s(c(x))\n",
    "        cluster = int(clustering[i])  #c(x)\n",
    "        ux = ub[i]  #u(x)\n",
    "        if ux <= sc[cluster]: #if u(x)<=s(c(x)), no need to re-assignment\n",
    "            need_assign[i] = 0\n",
    "    # for all remaining points x and center c\n",
    "    for i in range(num):\n",
    "        cluster = int(clustering[i])\n",
    "        ux = ub[i]\n",
    "        if need_assign[i]==0:\n",
    "            dxcx = get_distance(data[i],centroids[cluster])  #compute d(x,c(x))\n",
    "            need_assign[i] = 1  \n",
    "        else:\n",
    "            dxcx = ub[i]  #otherwise, d(x,c(x))=u(x)\n",
    "        for index in range(k):\n",
    "            if index==cluster:\n",
    "                continue\n",
    "            if (dxcx>lb[i][index]) or (dxcx>0.5*distance_mat[cluster][index]): #d(x,c(x))>l(x,c) or d(x,c(x))>0.5*d(c(x),c)\n",
    "                dxc = get_distance(data[i],centroids[index])\n",
    "                if dxc<dxcx:\n",
    "                    dxcx = dxc\n",
    "                    clustering[i] = index\n",
    "    return clustering\n",
    "\n",
    "# update the centroid\n",
    "def update(data,clustering,centroids,lb,ub):\n",
    "    k = len(centroids)\n",
    "    num = len(data)\n",
    "    mc = np.zeros((k,data.shape[1])) # the mean of the points assigned to center c\n",
    "    for i in range(k):\n",
    "        mc[i] = np.mean(data[clustering==i],axis=0)\n",
    "        # for each point x and center c, assign l(x,c)=max{l(x,c)-d(c,m(c)),0}\n",
    "        for j in range(num):\n",
    "            if lb[j][i]>=get_distance(centroids[i],mc[i]):\n",
    "                lb[j][i]=lb[j][i]-get_distance(centroids[i],mc[i])\n",
    "            else:\n",
    "                lb[j][i]=0\n",
    "        # for each point x, assign u(x) = u(x)-d(m(c(x)),c(x))\n",
    "        for j in range(num):\n",
    "            cluster = int(clustering[j])\n",
    "            ub[j] = ub[j] - get_distance(centroids[cluster],mc[cluster])\n",
    "    return mc,lb,ub\n",
    "\n",
    "def acc_kmeans(data,initialization,k=3):\n",
    "    num = len(data)\n",
    "    iteration = 1\n",
    "    centroids = initialization\n",
    "    centroidsPrevious = initialization+1\n",
    "    mc = np.zeros((k,data.shape[1]))\n",
    "    c_dist = centroids_dist(centroids)\n",
    "    clusterPrevious,lb,ub = initialize_acc_k_means(data,centroids,c_dist)\n",
    "    while True:\n",
    "        clusterCurrent = assignment(data,clusterPrevious,centroids,c_dist,lb,ub)\n",
    "        # when there is different between current centroids and the previous centroids.\n",
    "        if (centroids!=centroidsPrevious).any():\n",
    "            centroidsPrevious = centroids\n",
    "            centroids,lb,up = update(data,clusterCurrent,centroids,lb,ub)\n",
    "            c_dist = centroids_dist(centroids)\n",
    "            iteration+=1\n",
    "        else:\n",
    "            break\n",
    "    return iteration,centroids,clusterCurrent"
   ]
  },
  {
   "cell_type": "code",
   "execution_count": 33,
   "id": "0d2036c2-7f92-4991-8b2d-4ed1e3b2b952",
   "metadata": {},
   "outputs": [],
   "source": [
    "num = len(features)\n",
    "init_number = random.sample(range(0,num),3)\n",
    "# the initial centroids\n",
    "initialization = np.array([features[init_number[0]],features[init_number[1]],features[init_number[2]]])\n",
    "acc_iteration,acc_centroids,acc_clustering = acc_kmeans(features,initialization,3)"
   ]
  },
  {
   "cell_type": "code",
   "execution_count": 34,
   "id": "91f5dae5-610d-40dc-8770-a947a9494976",
   "metadata": {},
   "outputs": [
    {
     "name": "stdout",
     "output_type": "stream",
     "text": [
      "12\n",
      "[[11.96441558 13.27480519  0.8522      5.22928571  2.87292208  4.75974026\n",
      "   5.08851948]\n",
      " [14.64847222 14.46041667  0.87916667  5.56377778  3.27790278  2.64893333\n",
      "   5.19231944]\n",
      " [18.72180328 16.29737705  0.88508689  6.20893443  3.72267213  3.60359016\n",
      "   6.06609836]]\n",
      "[1. 1. 1. 1. 1. 1. 1. 1. 1. 1. 1. 1. 1. 1. 1. 1. 0. 1. 1. 0. 1. 1. 1. 1.\n",
      " 1. 1. 0. 1. 1. 1. 1. 1. 1. 1. 1. 1. 1. 2. 1. 0. 1. 1. 1. 1. 1. 1. 1. 1.\n",
      " 1. 1. 1. 1. 1. 1. 1. 1. 1. 1. 1. 1. 0. 0. 0. 0. 1. 1. 1. 1. 1. 0. 2. 2.\n",
      " 2. 2. 2. 2. 2. 2. 2. 2. 2. 2. 2. 2. 2. 2. 2. 2. 2. 2. 2. 2. 2. 2. 2. 2.\n",
      " 2. 2. 2. 2. 1. 2. 2. 2. 2. 2. 2. 2. 2. 2. 2. 2. 2. 2. 2. 2. 2. 2. 2. 2.\n",
      " 2. 2. 1. 2. 1. 2. 2. 2. 2. 2. 2. 2. 1. 1. 1. 1. 2. 1. 1. 1. 0. 0. 0. 0.\n",
      " 0. 0. 0. 0. 0. 0. 0. 0. 0. 0. 0. 0. 0. 0. 0. 0. 0. 0. 0. 0. 0. 0. 0. 0.\n",
      " 0. 0. 0. 0. 0. 0. 0. 0. 0. 0. 0. 1. 0. 0. 0. 0. 0. 0. 0. 0. 0. 0. 0. 0.\n",
      " 0. 0. 0. 0. 0. 0. 0. 0. 0. 1. 0. 0. 0. 0. 0. 0. 0. 0.]\n"
     ]
    }
   ],
   "source": [
    "print(acc_iteration)\n",
    "print(acc_centroids)\n",
    "print(acc_clustering)"
   ]
  },
  {
   "cell_type": "code",
   "execution_count": 35,
   "id": "59b04034-bfcc-454d-80aa-d1cd884d858a",
   "metadata": {},
   "outputs": [],
   "source": [
    "# GMM-EM\n",
    "def Expectation(data,k,mu,sigma,pi):\n",
    "    num = len(data)\n",
    "    lst = np.zeros((num,k))\n",
    "    gamma = np.zeros((num,k))\n",
    "    for i in range(num):\n",
    "        for j in range(k):\n",
    "            lst[i][j] = pi[j]*multivariate_normal.pdf(data[i],mean=mu[j],cov=sigma[j])\n",
    "        for j in range(k):\n",
    "            gamma[i][j] = lst[i][j]/sum(lst[i,:])\n",
    "    return gamma\n",
    "\n",
    "def Maximization(data,k,mu,sigma,pi):\n",
    "    num = len(data)\n",
    "    gamma = Expectation(data,k,mu,sigma,pi)\n",
    "    for i in range(k):\n",
    "        mu_values = []\n",
    "        sigma_values = []\n",
    "        pi_values = []\n",
    "        nk = sum(gamma[:,i])\n",
    "        for j in range(num):\n",
    "            mu_values.append(gamma[j][i]*data[j])\n",
    "            covariance = np.dot((data[j]-mu[i]).reshape(-1,1),(data[j]-mu[i]).reshape(1,-1))\n",
    "            covariance = covariance+np.eye(covariance.shape[0])/1000\n",
    "            sigma_values.append(gamma[j][i]*covariance)\n",
    "            pi_values.append(gamma[j][i])\n",
    "        mu[i] = sum(mu_values)/nk\n",
    "        sigma[i] = sum(sigma_values)/nk\n",
    "        pi[i] = sum(pi_values)/num\n",
    "    return mu,sigma,pi\n",
    "\n",
    "def get_log_likelihood(data,k,mu,sigma,pi):\n",
    "    ll = 0\n",
    "    num = len(data)\n",
    "    for i in range(num):\n",
    "        likel=0\n",
    "        for j in range(k):\n",
    "            likel+=pi[j]*multivariate_normal.pdf(data[i],mean=mu[j],cov=sigma[j])\n",
    "        ll+=np.log(likel)\n",
    "    return ll\n",
    "\n",
    "def GMM_EM(data,k,mu,sigma,pi):\n",
    "    llNew = 100000\n",
    "    llOld = 0\n",
    "    iteration = 0\n",
    "    while (llNew-llOld>1e-5):\n",
    "        llOld = get_log_likelihood(data,k,mu,sigma,pi)\n",
    "        mu,sigma,pi = Maximization(data,k,mu,sigma,pi)\n",
    "        llNew = get_log_likelihood(data,k,mu,sigma,pi)\n",
    "        iteration+=1\n",
    "    gamma = Expectation(data,k,mu,sigma,pi)\n",
    "    lst = []\n",
    "    for i in range(len(data)):\n",
    "        lst.append(np.argmax(gamma[i,:]))\n",
    "        clustering = np.array(lst)\n",
    "    return clustering,iteration"
   ]
  },
  {
   "cell_type": "code",
   "execution_count": 36,
   "id": "c35f5d70-0fba-4b94-9009-3f7c39d9f518",
   "metadata": {},
   "outputs": [
    {
     "name": "stdout",
     "output_type": "stream",
     "text": [
      "[[19.46   16.5     0.8985  6.113   3.892   4.308   6.009 ]\n",
      " [11.49   13.22    0.8263  5.304   2.695   5.388   5.31  ]\n",
      " [18.76   16.2     0.8984  6.172   3.796   3.12    6.053 ]]\n",
      "[[[1. 0. 0. 0. 0. 0. 0.]\n",
      "  [0. 1. 0. 0. 0. 0. 0.]\n",
      "  [0. 0. 1. 0. 0. 0. 0.]\n",
      "  [0. 0. 0. 1. 0. 0. 0.]\n",
      "  [0. 0. 0. 0. 1. 0. 0.]\n",
      "  [0. 0. 0. 0. 0. 1. 0.]\n",
      "  [0. 0. 0. 0. 0. 0. 1.]]\n",
      "\n",
      " [[1. 0. 0. 0. 0. 0. 0.]\n",
      "  [0. 1. 0. 0. 0. 0. 0.]\n",
      "  [0. 0. 1. 0. 0. 0. 0.]\n",
      "  [0. 0. 0. 1. 0. 0. 0.]\n",
      "  [0. 0. 0. 0. 1. 0. 0.]\n",
      "  [0. 0. 0. 0. 0. 1. 0.]\n",
      "  [0. 0. 0. 0. 0. 0. 1.]]\n",
      "\n",
      " [[1. 0. 0. 0. 0. 0. 0.]\n",
      "  [0. 1. 0. 0. 0. 0. 0.]\n",
      "  [0. 0. 1. 0. 0. 0. 0.]\n",
      "  [0. 0. 0. 1. 0. 0. 0.]\n",
      "  [0. 0. 0. 0. 1. 0. 0.]\n",
      "  [0. 0. 0. 0. 0. 1. 0.]\n",
      "  [0. 0. 0. 0. 0. 0. 1.]]]\n",
      "[0.33333333 0.33333333 0.33333333]\n",
      "84\n",
      "[2 2 2 2 2 2 2 2 0 2 2 2 2 2 2 2 1 2 2 1 2 2 2 1 2 2 2 2 2 2 2 2 2 2 2 2 2\n",
      " 2 2 1 1 1 1 2 2 2 2 2 2 2 2 2 2 2 2 2 2 2 2 2 1 1 1 1 2 2 2 2 2 1 0 0 0 0\n",
      " 0 0 0 0 0 0 0 0 0 0 0 0 0 0 0 0 0 0 0 0 0 0 0 0 0 0 0 0 0 0 0 0 0 0 0 0 0\n",
      " 0 0 0 0 0 0 0 0 0 0 0 0 0 0 0 0 0 0 0 0 0 0 0 0 0 0 0 0 0 1 1 1 1 1 1 1 1\n",
      " 1 1 1 1 1 1 1 1 1 1 1 1 1 1 1 1 1 1 1 1 1 1 1 1 1 1 1 1 1 1 1 1 1 1 1 1 1\n",
      " 1 1 1 1 1 1 1 1 1 1 1 1 1 1 1 1 1 1 1 1 1 1 1 1 1]\n"
     ]
    }
   ],
   "source": [
    "num = len(features)\n",
    "init_number = random.sample(range(0,num),3)\n",
    "initialization_mu = np.array([features[init_number[0]],features[init_number[1]],features[init_number[2]]])\n",
    "initialization_sigma = np.empty((3,7,7))\n",
    "for i in range(3):\n",
    "    initialization_sigma[i] = (np.eye(7))\n",
    "initialization_pi = np.array([1/3,1/3,1/3])\n",
    "print(initialization_mu)\n",
    "print(initialization_sigma)\n",
    "print(initialization_pi)\n",
    "gmm_clustering,gmm_iteration = GMM_EM(features,3,initialization_mu,initialization_sigma,initialization_pi)\n",
    "print(gmm_iteration)\n",
    "print(gmm_clustering)"
   ]
  },
  {
   "cell_type": "code",
   "execution_count": 37,
   "id": "bee6811f-cc1d-4090-8dc2-5b2b51e17dcf",
   "metadata": {},
   "outputs": [],
   "source": [
    "# Silhouette Coefficient\n",
    "def sc_single(data,index,clustering,k):\n",
    "    p_cluster = clustering[index]\n",
    "    p = data[index]\n",
    "    a = 0\n",
    "    distances = []\n",
    "    for i in range(k):\n",
    "        cluster = data[clustering==i,:]\n",
    "        if i==p_cluster:\n",
    "            for j in range(len(cluster)):\n",
    "                ai = get_distance(p,cluster[j])\n",
    "                a+=ai\n",
    "            a/=(len(cluster)-1)\n",
    "        else:\n",
    "            distance = 0\n",
    "            for j in range(len(cluster)):\n",
    "                distance+=get_distance(p,cluster[j])\n",
    "            distances.append(distance/len(cluster))\n",
    "    b = min(distances)\n",
    "    s=(b-a)/max(a,b)\n",
    "    return s\n",
    "\n",
    "def sc(data,clustering,k):\n",
    "    s=0\n",
    "    for i in range(len(data)):\n",
    "        s+=sc_single(data,i,clustering,k)\n",
    "    return s/len(data)"
   ]
  },
  {
   "cell_type": "code",
   "execution_count": 38,
   "id": "153f2ee0-3b7d-4f50-aae4-40f7caee7252",
   "metadata": {},
   "outputs": [
    {
     "name": "stdout",
     "output_type": "stream",
     "text": [
      "Silhouette Coefficient for kmeans: 0.46813908008596955\n",
      "Silhouette Coefficient for acc_kmeans: 0.4719337319126895\n",
      "Silhouette Coefficient for gmm-em: 0.41971966340999006\n"
     ]
    }
   ],
   "source": [
    "print(\"Silhouette Coefficient for kmeans:\",sc(features,clustering,3)) #kmeans\n",
    "print(\"Silhouette Coefficient for acc_kmeans:\",sc(features,acc_clustering,3)) #acc_kmeans\n",
    "print(\"Silhouette Coefficient for gmm-em:\",sc(features,gmm_clustering,3)) #gmm-em"
   ]
  },
  {
   "cell_type": "code",
   "execution_count": 39,
   "id": "bf264495-9e43-4c38-9bfb-c999720210de",
   "metadata": {},
   "outputs": [],
   "source": [
    "# rand index\n",
    "def rand_index(real_data,clustering):\n",
    "    n=len(data)\n",
    "    a,b,c,d=0,0,0,0\n",
    "    for i in range(n):\n",
    "        for j in range(n):\n",
    "            if i==j:\n",
    "                continue\n",
    "            elif(real_data[i]==real_data[j])and(clustering[i]==clustering[j]):\n",
    "                a+=1\n",
    "            elif(real_data[i]!=real_data[j])and(clustering[i]!=clustering[j]):\n",
    "                b+=1\n",
    "            elif(real_data[i]==real_data[j])and(clustering[i]!=clustering[j]):\n",
    "                c+=1\n",
    "            elif(real_data[i]!=real_data[j])and(clustering[i]==clustering[j]):\n",
    "                d+=1\n",
    "    ri = (a+b)/(a+b+c+d)\n",
    "    return ri"
   ]
  },
  {
   "cell_type": "code",
   "execution_count": 41,
   "id": "1bee2c1c-1273-49bd-8fc0-6e7bbfef4927",
   "metadata": {},
   "outputs": [
    {
     "name": "stdout",
     "output_type": "stream",
     "text": [
      "rand index for kmeans: 0.8713602187286398\n",
      "rand index for acc_kmeans: 0.8743677375256322\n",
      "rand index for gmm-em: 0.9242196400091137\n"
     ]
    }
   ],
   "source": [
    "print(\"rand index for kmeans:\",rand_index(data[:,7],clustering))\n",
    "print(\"rand index for acc_kmeans:\",rand_index(data[:,7],acc_clustering))\n",
    "print(\"rand index for gmm-em:\",rand_index(data[:,7],gmm_clustering))"
   ]
  },
  {
   "cell_type": "code",
   "execution_count": 42,
   "id": "fa1c9a25-ac61-42d3-8613-634817c1a497",
   "metadata": {},
   "outputs": [
    {
     "name": "stdout",
     "output_type": "stream",
     "text": [
      "sc_var for kmeans: 3.5638471652921954e-06\n",
      "ri_var for kmeans: 2.238679405280084e-06\n"
     ]
    }
   ],
   "source": [
    "# sensitive\n",
    "# kmeans\n",
    "sc_score=[]\n",
    "ri_score=[]\n",
    "for i in range(20):\n",
    "    iteration,centroids,clustering,clusterInfo = kmeans(features,3)\n",
    "    sc_score.append(sc(features,clustering,3))\n",
    "    ri_score.append(rand_index(data[:,7],clustering))\n",
    "sc_var = np.var(sc_score)\n",
    "ri_var = np.var(ri_score)\n",
    "print(\"sc_var for kmeans:\",sc_var)\n",
    "print(\"ri_var for kmeans:\",ri_var)"
   ]
  },
  {
   "cell_type": "code",
   "execution_count": 45,
   "id": "3b8134e9-5e91-4310-8779-24b940ddacb3",
   "metadata": {},
   "outputs": [
    {
     "name": "stdout",
     "output_type": "stream",
     "text": [
      "sc_var for acc_kmeans: 3.6926331177279848e-06\n",
      "ri_var for acc_kmeans: 4.040757042879567e-06\n"
     ]
    }
   ],
   "source": [
    "# sensitive\n",
    "# acc_kmeans\n",
    "sc_score=[]\n",
    "ri_score=[]\n",
    "for i in range(20):\n",
    "    num = len(features)\n",
    "    init_number = random.sample(range(0,num),3)\n",
    "    initialization = np.array([features[init_number[0]],features[init_number[1]],features[init_number[2]]])\n",
    "    acc_iteration,acc_centroids,acc_clustering = acc_kmeans(features,initialization,3)\n",
    "    sc_score.append(sc(features,acc_clustering,3))\n",
    "    ri_score.append(rand_index(data[:,7],acc_clustering))\n",
    "sc_var = np.var(sc_score)\n",
    "ri_var = np.var(ri_score)\n",
    "print(\"sc_var for acc_kmeans:\",sc_var)\n",
    "print(\"ri_var for acc_kmeans:\",ri_var)"
   ]
  },
  {
   "cell_type": "code",
   "execution_count": 46,
   "id": "489dc895-7960-4160-83b8-5671f90dea73",
   "metadata": {},
   "outputs": [
    {
     "name": "stdout",
     "output_type": "stream",
     "text": [
      "sc_var for gmm-em: 0.0012744445565184633\n",
      "ri_var for gmm-em: 0.009305063773790617\n"
     ]
    }
   ],
   "source": [
    "# sensitive\n",
    "# GMM-EM\n",
    "sc_score=[]\n",
    "ri_score=[]\n",
    "for i in range(10):\n",
    "    num = len(features)\n",
    "    init_number = random.sample(range(0,num),3)\n",
    "    initialization_mu = np.array([features[init_number[0]],features[init_number[1]],features[init_number[2]]])\n",
    "    initialization_sigma = np.empty((3,7,7))\n",
    "    for i in range(3):\n",
    "        initialization_sigma[i] = (np.eye(7))\n",
    "    initialization_pi = np.array([1/3,1/3,1/3])\n",
    "    gmm_clustering,gmm_iteration = GMM_EM(features,3,initialization_mu,initialization_sigma,initialization_pi)\n",
    "    sc_score.append(sc(features,gmm_clustering,3))\n",
    "    ri_score.append(rand_index(data[:,7],gmm_clustering))\n",
    "sc_var = np.var(sc_score)\n",
    "ri_var = np.var(ri_score)\n",
    "print(\"sc_var for gmm-em:\",sc_var)\n",
    "print(\"ri_var for gmm-em:\",ri_var)"
   ]
  },
  {
   "cell_type": "code",
   "execution_count": 55,
   "id": "6c9f6e35-1e94-49a5-87c9-c54b36c96c56",
   "metadata": {},
   "outputs": [
    {
     "name": "stdout",
     "output_type": "stream",
     "text": [
      "avg_iteration for kmeans: 9.55\n",
      "avg_time for kmeans: 0.030767643451690675\n"
     ]
    }
   ],
   "source": [
    "# iterations and times\n",
    "# kmeans\n",
    "start_time = time.time()\n",
    "avg_iteration = 0\n",
    "for i in range(20):\n",
    "    iteration,centroids,clustering,clusterInfo = kmeans(features,3)\n",
    "    avg_iteration+=iteration\n",
    "end_time = time.time()\n",
    "avg_iteration/=20\n",
    "print(\"avg_iteration for kmeans:\",avg_iteration)\n",
    "print(\"avg_time for kmeans:\",(end_time-start_time)/20)"
   ]
  },
  {
   "cell_type": "code",
   "execution_count": 53,
   "id": "4243565b-7678-49c3-a945-031b84f78708",
   "metadata": {},
   "outputs": [
    {
     "name": "stdout",
     "output_type": "stream",
     "text": [
      "avg_iteration for acc_kmeans: 10.25\n",
      "avg_time for acc_kmeans: 0.09971770048141479\n"
     ]
    }
   ],
   "source": [
    "# iterations and times\n",
    "# acc_means\n",
    "avg_iteration = 0\n",
    "avg_time = 0\n",
    "for i in range(20):\n",
    "    num = len(features)\n",
    "    init_number = random.sample(range(0,num),3)\n",
    "    initialization = np.array([features[init_number[0]],features[init_number[1]],features[init_number[2]]])\n",
    "    start_time = time.time()\n",
    "    acc_iteration,acc_centroids,acc_clustering = acc_kmeans(features,initialization,3)\n",
    "    end_time = time.time()\n",
    "    avg_iteration+=acc_iteration\n",
    "    avg_time += end_time-start_time\n",
    "avg_iteration/=20\n",
    "print(\"avg_iteration for acc_kmeans:\",avg_iteration)\n",
    "print(\"avg_time for acc_kmeans:\",avg_time/20)"
   ]
  },
  {
   "cell_type": "code",
   "execution_count": 50,
   "id": "23aa26e6-c499-490b-9437-7796ef1efae1",
   "metadata": {},
   "outputs": [
    {
     "name": "stdout",
     "output_type": "stream",
     "text": [
      "avg_iteration for gmm-em: 38.5\n",
      "avg_time for gmm-em: 7.151297473907471\n"
     ]
    }
   ],
   "source": [
    "# iterations and times\n",
    "# gmm-em\n",
    "avg_iteration = 0\n",
    "avg_time = 0\n",
    "for i in range(10):\n",
    "    num = len(features)\n",
    "    init_number = random.sample(range(0,num),3)\n",
    "    initialization_mu = np.array([features[init_number[0]],features[init_number[1]],features[init_number[2]]])\n",
    "    initialization_sigma = np.empty((3,7,7))\n",
    "    for i in range(3):\n",
    "        initialization_sigma[i] = (np.eye(7))\n",
    "    initialization_pi = np.array([1/3,1/3,1/3])\n",
    "    start_time = time.time()\n",
    "    gmm_clustering,gmm_iteration = GMM_EM(features,3,initialization_mu,initialization_sigma,initialization_pi)\n",
    "    end_time = time.time()\n",
    "    avg_iteration+=gmm_iteration\n",
    "    avg_time += end_time-start_time\n",
    "avg_iteration/=10\n",
    "print(\"avg_iteration for gmm-em:\",avg_iteration)\n",
    "print(\"avg_time for gmm-em:\",avg_time/10)"
   ]
  },
  {
   "cell_type": "code",
   "execution_count": null,
   "id": "63fbb9b7-41fb-42a2-88eb-b7e840b0a50e",
   "metadata": {},
   "outputs": [],
   "source": []
  }
 ],
 "metadata": {
  "kernelspec": {
   "display_name": "Python 3",
   "language": "python",
   "name": "python3"
  },
  "language_info": {
   "codemirror_mode": {
    "name": "ipython",
    "version": 3
   },
   "file_extension": ".py",
   "mimetype": "text/x-python",
   "name": "python",
   "nbconvert_exporter": "python",
   "pygments_lexer": "ipython3",
   "version": "3.8.8"
  }
 },
 "nbformat": 4,
 "nbformat_minor": 5
}
