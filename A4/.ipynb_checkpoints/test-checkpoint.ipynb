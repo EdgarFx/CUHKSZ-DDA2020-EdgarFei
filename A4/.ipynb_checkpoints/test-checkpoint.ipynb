{
 "cells": [
  {
   "cell_type": "code",
   "execution_count": 20,
   "id": "7b680d91-5f42-4879-9418-704a43a81ffd",
   "metadata": {},
   "outputs": [],
   "source": [
    "import numpy as np\n"
   ]
  },
  {
   "cell_type": "code",
   "execution_count": 22,
   "id": "30b6f43d-40a5-4a5b-b537-23130e7779b5",
   "metadata": {},
   "outputs": [],
   "source": [
    "feature = np.array([[1,2,3],[2,4,1],[0,3,2]])"
   ]
  },
  {
   "cell_type": "code",
   "execution_count": 23,
   "id": "11e64a3b-1753-4fe0-b27c-87909dd24420",
   "metadata": {},
   "outputs": [],
   "source": [
    "clustering = np.array([0,1,0])"
   ]
  },
  {
   "cell_type": "code",
   "execution_count": 24,
   "id": "1a094a05-e377-4588-9bc0-e0121b180859",
   "metadata": {},
   "outputs": [
    {
     "ename": "TypeError",
     "evalue": "list indices must be integers or slices, not tuple",
     "output_type": "error",
     "traceback": [
      "\u001b[1;31m---------------------------------------------------------------------------\u001b[0m",
      "\u001b[1;31mTypeError\u001b[0m                                 Traceback (most recent call last)",
      "\u001b[1;32m<ipython-input-24-34082102745f>\u001b[0m in \u001b[0;36m<module>\u001b[1;34m\u001b[0m\n\u001b[1;32m----> 1\u001b[1;33m \u001b[0mcluster\u001b[0m \u001b[1;33m=\u001b[0m \u001b[0mfeature\u001b[0m\u001b[1;33m[\u001b[0m\u001b[0mclustering\u001b[0m\u001b[1;33m==\u001b[0m\u001b[1;36m0\u001b[0m\u001b[1;33m,\u001b[0m\u001b[1;33m:\u001b[0m\u001b[1;33m]\u001b[0m\u001b[1;33m\u001b[0m\u001b[1;33m\u001b[0m\u001b[0m\n\u001b[0m",
      "\u001b[1;31mTypeError\u001b[0m: list indices must be integers or slices, not tuple"
     ]
    }
   ],
   "source": [
    "cluster = feature[clustering==0,:]"
   ]
  },
  {
   "cell_type": "code",
   "execution_count": null,
   "id": "30cce443-1386-40b8-b385-29cff1a0eab3",
   "metadata": {},
   "outputs": [],
   "source": []
  }
 ],
 "metadata": {
  "kernelspec": {
   "display_name": "Python 3",
   "language": "python",
   "name": "python3"
  },
  "language_info": {
   "codemirror_mode": {
    "name": "ipython",
    "version": 3
   },
   "file_extension": ".py",
   "mimetype": "text/x-python",
   "name": "python",
   "nbconvert_exporter": "python",
   "pygments_lexer": "ipython3",
   "version": "3.8.8"
  }
 },
 "nbformat": 4,
 "nbformat_minor": 5
}
