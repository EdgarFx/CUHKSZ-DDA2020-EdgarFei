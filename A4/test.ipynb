{
 "cells": [
  {
   "cell_type": "code",
   "execution_count": 25,
   "id": "7b680d91-5f42-4879-9418-704a43a81ffd",
   "metadata": {},
   "outputs": [],
   "source": [
    "import numpy as np\n"
   ]
  },
  {
   "cell_type": "code",
   "execution_count": 26,
   "id": "30b6f43d-40a5-4a5b-b537-23130e7779b5",
   "metadata": {},
   "outputs": [],
   "source": [
    "feature = np.array([[1,2,3],[2,4,1],[0,3,2]])"
   ]
  },
  {
   "cell_type": "code",
   "execution_count": 27,
   "id": "11e64a3b-1753-4fe0-b27c-87909dd24420",
   "metadata": {},
   "outputs": [],
   "source": [
    "clustering = np.array([0,1,0])"
   ]
  },
  {
   "cell_type": "code",
   "execution_count": 34,
   "id": "1a094a05-e377-4588-9bc0-e0121b180859",
   "metadata": {},
   "outputs": [],
   "source": [
    "cluster = feature[clustering==0,:]"
   ]
  },
  {
   "cell_type": "code",
   "execution_count": 35,
   "id": "30cce443-1386-40b8-b385-29cff1a0eab3",
   "metadata": {},
   "outputs": [
    {
     "name": "stdout",
     "output_type": "stream",
     "text": [
      "[[1 2 3]\n",
      " [0 3 2]]\n"
     ]
    }
   ],
   "source": [
    "print(cluster)"
   ]
  },
  {
   "cell_type": "code",
   "execution_count": null,
   "id": "ee2512b7-5c1a-4e7e-8fc8-c4cbb23572f3",
   "metadata": {},
   "outputs": [],
   "source": []
  }
 ],
 "metadata": {
  "kernelspec": {
   "display_name": "Python 3",
   "language": "python",
   "name": "python3"
  },
  "language_info": {
   "codemirror_mode": {
    "name": "ipython",
    "version": 3
   },
   "file_extension": ".py",
   "mimetype": "text/x-python",
   "name": "python",
   "nbconvert_exporter": "python",
   "pygments_lexer": "ipython3",
   "version": "3.8.8"
  }
 },
 "nbformat": 4,
 "nbformat_minor": 5
}
